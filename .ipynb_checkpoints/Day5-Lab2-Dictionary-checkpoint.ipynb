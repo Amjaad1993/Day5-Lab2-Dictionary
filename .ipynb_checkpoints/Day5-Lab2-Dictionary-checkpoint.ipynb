{
 "cells": [
  {
   "cell_type": "code",
   "execution_count": 2,
   "id": "320ffb6a",
   "metadata": {},
   "outputs": [
    {
     "data": {
      "text/plain": [
       "{'no1': {'name': 'Amal', 'number': 1111111111},\n",
       " 'no2': {'name': 'Mohammed', 'number': 2222222222},\n",
       " 'no3': {'name': 'Khadijah', 'number': 3333333333},\n",
       " 'no4': {'name': 'Abdullah', 'number': 4444444444},\n",
       " 'no5': {'name': 'Rawan', 'number': 5555555555},\n",
       " 'no6': {'name': 'Faisal', 'number': 6666666666},\n",
       " 'no7': {'name': 'Layla', 'number': 7777777777}}"
      ]
     },
     "execution_count": 2,
     "metadata": {},
     "output_type": "execute_result"
    }
   ],
   "source": [
    "book_dict = {\"no1\":{\"name\":\"Amal\", \"number\":1111111111},\n",
    "             \"no2\":{\"name\":\"Mohammed\", \"number\":2222222222},\n",
    "             \"no3\":{\"name\":\"Khadijah\", \"number\":3333333333},\n",
    "             \"no4\":{\"name\":\"Abdullah\", \"number\":4444444444},\n",
    "             \"no5\":{\"name\":\"Rawan\", \"number\":5555555555},\n",
    "             \"no6\":{\"name\":\"Faisal\", \"number\":6666666666},\n",
    "             \"no7\":{\"name\":\"Layla\", \"number\":7777777777}}\n",
    "book_dict"
   ]
  },
  {
   "cell_type": "code",
   "execution_count": 22,
   "id": "c49c309f",
   "metadata": {
    "scrolled": true
   },
   "outputs": [
    {
     "name": "stdout",
     "output_type": "stream",
     "text": [
      "This is invalid number1\n"
     ]
    }
   ],
   "source": [
    "def new_fun(ph_no):\n",
    "    if len(str(ph_no)) != 10:\n",
    "        print(\"This is invalid number\")\n",
    "        return \n",
    "    \n",
    "    if not(str(ph_no).isdigit()):\n",
    "        print(\"This is invalid number1\")\n",
    "        return \n",
    "    \n",
    "    name = ''\n",
    "    for key, value in book_dict.items():\n",
    "        if value['number'] == int(ph_no):\n",
    "            print(value['name'])\n",
    "            name = value['name']\n",
    "    if len(name) ==0:\n",
    "        print(\"Sorry, the number is not found\")\n",
    "        \n",
    "new_fun(\"444444444@\")"
   ]
  },
  {
   "cell_type": "code",
   "execution_count": null,
   "id": "ebbaaf3e",
   "metadata": {},
   "outputs": [],
   "source": []
  }
 ],
 "metadata": {
  "kernelspec": {
   "display_name": "Python 3 (ipykernel)",
   "language": "python",
   "name": "python3"
  },
  "language_info": {
   "codemirror_mode": {
    "name": "ipython",
    "version": 3
   },
   "file_extension": ".py",
   "mimetype": "text/x-python",
   "name": "python",
   "nbconvert_exporter": "python",
   "pygments_lexer": "ipython3",
   "version": "3.9.13"
  }
 },
 "nbformat": 4,
 "nbformat_minor": 5
}
